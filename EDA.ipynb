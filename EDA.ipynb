{
 "cells": [
  {
   "cell_type": "code",
   "execution_count": 14,
   "metadata": {},
   "outputs": [],
   "source": [
    "import os, sys\n",
    "import json\n",
    "from collections import Counter"
   ]
  },
  {
   "cell_type": "code",
   "execution_count": 4,
   "metadata": {},
   "outputs": [],
   "source": [
    "dialogues_path = '/Users/hgsun/workspace/STAR/dialogues'\n",
    "dialouges = [file for file in os.listdir(dialogues_path) if file.endswith('.json')]"
   ]
  },
  {
   "cell_type": "code",
   "execution_count": 5,
   "metadata": {},
   "outputs": [
    {
     "data": {
      "text/plain": [
       "6652"
      ]
     },
     "execution_count": 5,
     "metadata": {},
     "output_type": "execute_result"
    }
   ],
   "source": [
    "len(dialouges)"
   ]
  },
  {
   "cell_type": "code",
   "execution_count": 23,
   "metadata": {},
   "outputs": [],
   "source": [
    "tasks = []\n",
    "single_tasks = []\n",
    "multi_cnt = 0\n",
    "multi_scenario = []\n",
    "for dialogue in dialouges:\n",
    "  id = dialogue.replace('.json', '')\n",
    "  with open(os.path.join(dialogues_path, dialogue), 'r') as f:\n",
    "    dialogue = json.load(f)\n",
    "    d_tasks = dialogue['Scenario']['WizardCapabilities']\n",
    "    if len(d_tasks) > 1:\n",
    "      multi_cnt += 1\n",
    "      multi_scenario.append(id)\n",
    "    if len(d_tasks) == 1:\n",
    "      single_tasks.append(d_tasks[0]['Task'])\n",
    "    for d_task in d_tasks:\n",
    "      tasks.append(d_task['Task'])"
   ]
  },
  {
   "cell_type": "code",
   "execution_count": 24,
   "metadata": {},
   "outputs": [
    {
     "data": {
      "text/plain": [
       "[('weather', 1266),\n",
       " ('restaurant_book', 985),\n",
       " ('trivia', 906),\n",
       " ('bank_fraud_report', 796),\n",
       " ('trip_directions', 668),\n",
       " ('party_plan', 607),\n",
       " ('bank_balance', 606),\n",
       " ('ride_book', 572),\n",
       " ('plane_book', 534),\n",
       " ('apartment_schedule', 525),\n",
       " ('hotel_book', 497),\n",
       " ('hotel_search', 429),\n",
       " ('restaurant_search', 387),\n",
       " ('doctor_schedule', 358),\n",
       " ('party_rsvp', 354),\n",
       " ('plane_search', 344),\n",
       " ('ride_status', 324),\n",
       " ('hotel_service_request', 281),\n",
       " ('doctor_followup', 279),\n",
       " ('meeting_schedule', 277),\n",
       " ('apartment_search', 231),\n",
       " ('ride_change', 229),\n",
       " ('spaceship_life_support', 139),\n",
       " ('spaceship_access_codes', 139)]"
      ]
     },
     "execution_count": 24,
     "metadata": {},
     "output_type": "execute_result"
    }
   ],
   "source": [
    "Counter(tasks).most_common()"
   ]
  },
  {
   "cell_type": "code",
   "execution_count": 25,
   "metadata": {},
   "outputs": [
    {
     "data": {
      "text/plain": [
       "[('bank_fraud_report', 452),\n",
       " ('party_plan', 415),\n",
       " ('ride_book', 387),\n",
       " ('trip_directions', 366),\n",
       " ('apartment_schedule', 340),\n",
       " ('hotel_book', 313),\n",
       " ('trivia', 263),\n",
       " ('doctor_schedule', 257),\n",
       " ('plane_book', 247),\n",
       " ('hotel_search', 245),\n",
       " ('weather', 222),\n",
       " ('doctor_followup', 189),\n",
       " ('party_rsvp', 152),\n",
       " ('spaceship_life_support', 139),\n",
       " ('spaceship_access_codes', 139),\n",
       " ('restaurant_search', 105),\n",
       " ('hotel_service_request', 77),\n",
       " ('meeting_schedule', 72),\n",
       " ('bank_balance', 67),\n",
       " ('plane_search', 55),\n",
       " ('restaurant_book', 50),\n",
       " ('apartment_search', 46),\n",
       " ('ride_change', 40),\n",
       " ('ride_status', 33)]"
      ]
     },
     "execution_count": 25,
     "metadata": {},
     "output_type": "execute_result"
    }
   ],
   "source": [
    "Counter(single_tasks).most_common()"
   ]
  },
  {
   "cell_type": "code",
   "execution_count": null,
   "metadata": {},
   "outputs": [],
   "source": []
  }
 ],
 "metadata": {
  "kernelspec": {
   "display_name": ".venv",
   "language": "python",
   "name": "python3"
  },
  "language_info": {
   "codemirror_mode": {
    "name": "ipython",
    "version": 3
   },
   "file_extension": ".py",
   "mimetype": "text/x-python",
   "name": "python",
   "nbconvert_exporter": "python",
   "pygments_lexer": "ipython3",
   "version": "3.8.10"
  },
  "orig_nbformat": 4
 },
 "nbformat": 4,
 "nbformat_minor": 2
}
